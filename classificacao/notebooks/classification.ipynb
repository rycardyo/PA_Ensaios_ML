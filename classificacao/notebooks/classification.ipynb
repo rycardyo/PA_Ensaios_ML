{
 "cells": [
  {
   "cell_type": "markdown",
   "metadata": {},
   "source": [
    "# 0.0 Imports"
   ]
  },
  {
   "cell_type": "code",
   "execution_count": 16,
   "metadata": {},
   "outputs": [],
   "source": [
    "import pandas as pd \n",
    "from sklearn.tree           import DecisionTreeClassifier   as dt  \n",
    "from sklearn.linear_model   import LogisticRegression       as lr \n",
    "from sklearn.ensemble       import RandomForestClassifier   as rf \n",
    "from sklearn.neighbors      import KNeighborsClassifier     as knn\n",
    "from sklearn.preprocessing  import normalize\n",
    "from sklearn                import metrics                  as mt "
   ]
  },
  {
   "cell_type": "markdown",
   "metadata": {},
   "source": [
    "# 1.0 Data Preparation"
   ]
  },
  {
   "cell_type": "code",
   "execution_count": 13,
   "metadata": {},
   "outputs": [],
   "source": [
    "class normalizer():\n",
    "\n",
    "    def __init__(self,\n",
    "                 df):\n",
    "        \n",
    "        self.dict_max = {c : df[c].max() for c in df.columns}\n",
    "\n",
    "\n",
    "    def getDfcolumnNormalized(self, \n",
    "                              df):\n",
    "        \n",
    "        df_normalized = df.copy()\n",
    "\n",
    "        for c in df.columns:\n",
    "\n",
    "            df_normalized.loc[:, c] = df_normalized.loc[:,c].apply(lambda x: x/self.dict_max[c])\n",
    "\n",
    "        return df_normalized \n",
    "    \n",
    "\n",
    "    def getDfcolumnDeNormalized(self,\n",
    "                                df):\n",
    "        \n",
    "        df_normalized = df.copy()\n",
    "\n",
    "        for c in df.columns:\n",
    "\n",
    "            df_normalized.loc[:, c] = df_normalized.loc[:,c].apply(lambda x: x*self.dict_max[c])\n",
    "\n",
    "        return df_normalized \n",
    "    \n"
   ]
  },
  {
   "cell_type": "code",
   "execution_count": 14,
   "metadata": {},
   "outputs": [],
   "source": [
    "X_test      = pd.read_csv('../data/X_test.csv') \n",
    "X_training  = pd.read_csv('../data/X_training.csv')\n",
    "X_valid     = pd.read_csv('../data/X_validation.csv')\n",
    "y_test      = pd.read_csv('../data/y_test.csv')\n",
    "y_training  = pd.read_csv('../data/y_training.csv')\n",
    "y_valid     = pd.read_csv('../data/y_validation.csv')\n"
   ]
  },
  {
   "cell_type": "code",
   "execution_count": 15,
   "metadata": {},
   "outputs": [],
   "source": [
    "# instancia um normalizador treinado com os parametros de training\n",
    "normalizer_X = normalizer(X_training)\n",
    "\n",
    "X_test_normalized   = normalizer_X.getDfcolumnNormalized(X_test)\n",
    "X_training_norm     = normalizer_X.getDfcolumnNormalized(X_training)\n",
    "X_valid_norm        = normalizer_X.getDfcolumnNormalized(X_valid)\n"
   ]
  },
  {
   "cell_type": "markdown",
   "metadata": {},
   "source": [
    "# 2.0 Model Training"
   ]
  },
  {
   "cell_type": "code",
   "execution_count": null,
   "metadata": {},
   "outputs": [],
   "source": [
    "from typing import Literal\n",
    "class superModelClassifier():\n",
    "    def __init__(self,\n",
    "                 model,\n",
    "                 principalMetric : Literal['ACCURACY', 'F1_SCORE', 'PRECISION', 'RECALL']):\n",
    "        \n",
    "        self.model = model \n",
    "\n",
    "    def fineTuning():\n",
    "        ...\n",
    "    \n",
    "    ...\n"
   ]
  },
  {
   "cell_type": "code",
   "execution_count": null,
   "metadata": {},
   "outputs": [],
   "source": [
    "knn_classifier = knn()\n",
    "knn_classifier.fit(X_training_norm, y_training)\n",
    "\n",
    "\n",
    "## fine tuning baseado no validation \n",
    "n_neighbors_fine_tuning = [1,2,3,4,5,6,7,8,9,10]\n",
    "\n",
    "def fine_tuning_knn(parameters : list):\n",
    "    ''' \n",
    "    dict_results : \n",
    "        model : model, \n",
    "        n_nighbors : k,\n",
    "        metrics : \n",
    "            training : \n",
    "                accuracy \n",
    "                precision\n",
    "                recall\n",
    "                f1_score\n",
    "            test :  \n",
    "                ... \n",
    "    \n",
    "    '''\n",
    "    \n",
    "    dict_results = {\n",
    "\n",
    "    }\n",
    "\n",
    "    for k in parameters:\n",
    "        knn_classifier = knn(k)\n",
    "        \n",
    "        knn_classifier.fit(X_training_norm, \n",
    "                           y_training)\n",
    "        \n",
    "        \n",
    "        predictions_training  = knn_classifier.predict(X_training_norm) \n",
    "        predictions_test      = knn_classifier.predict(X_test_normalized)\n",
    "        predictions_vaidation = knn_classifier.predict(X_valid_norm)\n",
    "\n",
    "                \n",
    "        accuracy_training  = mt.accuracy_score(X_training_norm, y_training)\n",
    "        accuracy_test      = mt.accuracy_score(X_test_normalized, y_test)\n",
    "        accuracy_valid     = mt.accuracy_score(X_valid_norm, y_valid)\n",
    "\n",
    "        precision_training  = mt.precision_score(X_training_norm, y_training)\n",
    "        precision_test      = mt.precision_score(X_test_normalized, y_test)\n",
    "        precision_valid     = mt.precision_score(X_valid_norm, y_valid)\n",
    "        \n",
    "        recall_training    = mt.recall_score(X_training_norm, y_training)\n",
    "        recall_test        = mt.recall_score(X_test_normalized, y_test)\n",
    "        recall_valid       = mt.recall_score(X_valid_norm, y_valid)\n",
    "        \n",
    "        f1_score_training  = mt.f1_score(X_training_norm, y_training)\n",
    "        f1_score_test      = mt.f1_score(X_test_normalized, y_test)\n",
    "        f1_score_valid     = mt.f1_score(X_valid_norm, y_valid)\n",
    "        \n",
    "\n"
   ]
  },
  {
   "cell_type": "markdown",
   "metadata": {},
   "source": []
  },
  {
   "cell_type": "markdown",
   "metadata": {},
   "source": [
    "# 3.0 Model Evaluations"
   ]
  },
  {
   "cell_type": "markdown",
   "metadata": {},
   "source": []
  }
 ],
 "metadata": {
  "kernelspec": {
   "display_name": "Python 3",
   "language": "python",
   "name": "python3"
  },
  "language_info": {
   "codemirror_mode": {
    "name": "ipython",
    "version": 3
   },
   "file_extension": ".py",
   "mimetype": "text/x-python",
   "name": "python",
   "nbconvert_exporter": "python",
   "pygments_lexer": "ipython3",
   "version": "3.11.4"
  }
 },
 "nbformat": 4,
 "nbformat_minor": 2
}
