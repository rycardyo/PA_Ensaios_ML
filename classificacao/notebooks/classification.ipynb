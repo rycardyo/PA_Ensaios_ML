{
 "cells": [
  {
   "cell_type": "markdown",
   "metadata": {},
   "source": [
    "# 0.0 Imports"
   ]
  },
  {
   "cell_type": "code",
   "execution_count": 17,
   "metadata": {},
   "outputs": [],
   "source": [
    "import pandas as pd \n",
    "from sklearn.tree           import DecisionTreeClassifier   as dt  \n",
    "from sklearn.linear_model   import LogisticRegression       as lr \n",
    "from sklearn.ensemble       import RandomForestClassifier   as rf \n",
    "from sklearn.neighbors      import KNeighborsClassifier     as knn\n",
    "from sklearn.preprocessing  import normalize\n",
    "from sklearn                import metrics                  as mt \n",
    "from tqdm import tqdm"
   ]
  },
  {
   "cell_type": "markdown",
   "metadata": {},
   "source": [
    "# 1.0 Data Preparation"
   ]
  },
  {
   "cell_type": "code",
   "execution_count": 18,
   "metadata": {},
   "outputs": [],
   "source": [
    "class normalizer():\n",
    "\n",
    "    def __init__(self,\n",
    "                 df):\n",
    "        \n",
    "        self.dict_max = {c : df[c].max() for c in df.columns}\n",
    "\n",
    "\n",
    "    def getDfcolumnNormalized(self, \n",
    "                              df):\n",
    "        \n",
    "        df_normalized = df.copy()\n",
    "\n",
    "        for c in df.columns:\n",
    "\n",
    "            df_normalized.loc[:, c] = df_normalized.loc[:,c].apply(lambda x: x/self.dict_max[c])\n",
    "\n",
    "        return df_normalized \n",
    "    \n",
    "\n",
    "    def getDfcolumnDeNormalized(self,\n",
    "                                df):\n",
    "        \n",
    "        df_normalized = df.copy()\n",
    "\n",
    "        for c in df.columns:\n",
    "\n",
    "            df_normalized.loc[:, c] = df_normalized.loc[:,c].apply(lambda x: x*self.dict_max[c])\n",
    "\n",
    "        return df_normalized \n",
    "    \n"
   ]
  },
  {
   "cell_type": "code",
   "execution_count": 19,
   "metadata": {},
   "outputs": [],
   "source": [
    "X_test      = pd.read_csv('../data/X_test.csv') \n",
    "X_training  = pd.read_csv('../data/X_training.csv')\n",
    "X_valid     = pd.read_csv('../data/X_validation.csv')\n",
    "y_test      = pd.read_csv('../data/y_test.csv')\n",
    "y_training  = pd.read_csv('../data/y_training.csv')\n",
    "y_valid     = pd.read_csv('../data/y_validation.csv')\n"
   ]
  },
  {
   "cell_type": "code",
   "execution_count": 20,
   "metadata": {},
   "outputs": [],
   "source": [
    "# instancia um normalizador treinado com os parametros de training\n",
    "normalizer_X = normalizer(X_training)\n",
    "\n",
    "X_test_normalized   = normalizer_X.getDfcolumnNormalized(X_test)\n",
    "X_training_norm     = normalizer_X.getDfcolumnNormalized(X_training)\n",
    "X_valid_norm        = normalizer_X.getDfcolumnNormalized(X_valid)\n"
   ]
  },
  {
   "cell_type": "markdown",
   "metadata": {},
   "source": [
    "# 2.0 Model Training"
   ]
  },
  {
   "cell_type": "code",
   "execution_count": 21,
   "metadata": {},
   "outputs": [],
   "source": [
    "from typing import Literal\n",
    "class superModelClassifier():\n",
    "    def __init__(self,\n",
    "                 model,\n",
    "                 principalMetric : Literal['ACCURACY', 'F1_SCORE', 'PRECISION', 'RECALL']):\n",
    "        \n",
    "        self.model = model \n",
    "\n",
    "    def fineTuning():\n",
    "        ...\n",
    "    \n",
    "    ...\n"
   ]
  },
  {
   "cell_type": "code",
   "execution_count": 25,
   "metadata": {},
   "outputs": [
    {
     "name": "stderr",
     "output_type": "stream",
     "text": [
      "/home/p123/.local/lib/python3.10/site-packages/sklearn/neighbors/_classification.py:238: DataConversionWarning: A column-vector y was passed when a 1d array was expected. Please change the shape of y to (n_samples,), for example using ravel().\n",
      "  return self._fit(X, y)\n"
     ]
    }
   ],
   "source": [
    "knn_classifier = knn()\n",
    "knn_classifier.fit(X_training_norm, y_training)\n",
    "\n",
    "\n",
    "## fine tuning baseado no validation \n",
    "n_neighbors_fine_tuning = [1,2,3,4,5,6,7,8,9,10]\n",
    "\n",
    "class ExperimentClassification():\n",
    "\n",
    "    def __init__(self,\n",
    "                 training_dataset : dict = None,\n",
    "                 test_dataset     : dict = None,\n",
    "                 valid_dataset    : dict = None):\n",
    "\n",
    "\n",
    "        self.general_metrics = []\n",
    "\n",
    "        self.x_training = training_dataset['x']\n",
    "        self.y_training = training_dataset['y']\n",
    "\n",
    "        self.x_test = test_dataset['x']\n",
    "        self.y_test = test_dataset['y']\n",
    "        \n",
    "        self.x_valid = valid_dataset['x']\n",
    "        self.y_valid = valid_dataset['y']\n",
    "        \n",
    "\n",
    "\n",
    "    \n",
    "    def computeMetricsSklearnModel(self,\n",
    "                                   predictions_training,\n",
    "                                   predictions_test,\n",
    "                                   predictions_valid) -> dict:\n",
    "\n",
    "        '''\n",
    "        returns:\n",
    "            metrics :{\n",
    "                accuracy    : dict['training','test','valid'], \n",
    "                precision   : dict['training','test','valid'],\n",
    "                recall      : dict['training','test','valid'],\n",
    "                f1_score    : dict['training','test','valid']\n",
    "            }\n",
    "        \n",
    "        '''        \n",
    "            \n",
    "        accuracies  = { \n",
    "                        'training'  : None,\n",
    "                        'test'      : None,\n",
    "                        'valid'     : None\n",
    "                       }\n",
    "        \n",
    "        precisions  = {\n",
    "                        'training'  : None,\n",
    "                        'test'      : None,\n",
    "                        'valid'     : None\n",
    "        }\n",
    "        recalls     = {\n",
    "                        'training'  : None,\n",
    "                        'test'      : None,\n",
    "                        'valid'     : None}\n",
    "        \n",
    "        f1_scores   = {\n",
    "                        'training'  : None,\n",
    "                        'test'      : None,\n",
    "                        'valid'     : None\n",
    "        }    \n",
    "        \n",
    "\n",
    "        # compute accuracy\n",
    "        accuracies['training']   = mt.accuracy_score(self.y_training, predictions_training)\n",
    "        accuracies['test']       = mt.accuracy_score(self.y_test, predictions_test)\n",
    "        accuracies['valid']      = mt.accuracy_score(self.y_valid,  predictions_valid)\n",
    "        \n",
    "        #compute precision\n",
    "        precisions['training']  = mt.precision_score(self.y_training, predictions_training)\n",
    "        precisions['test']      = mt.precision_score(self.y_test, predictions_test)\n",
    "        precisions['valid']     = mt.precision_score(self.y_valid, predictions_valid)\n",
    "        \n",
    "        # compute recalls\n",
    "        recalls['training']     = mt.recall_score(self.y_training, predictions_training)\n",
    "        recalls['test']         = mt.recall_score(self.y_test, predictions_test)\n",
    "        recalls['valid']        = mt.recall_score(self.y_valid, predictions_valid)\n",
    "        \n",
    "        # compute f1_scores\n",
    "        f1_scores['training']   = mt.f1_score(self.y_training, predictions_training)\n",
    "        f1_scores['test']       = mt.f1_score(self.y_test, predictions_test)\n",
    "        f1_scores['valid']      = mt.f1_score(self.y_valid, predictions_valid)\n",
    "\n",
    "\n",
    "        metrics = {\n",
    "             'accuracy'  : accuracies,\n",
    "             'precision' : precisions,\n",
    "             'recall'    : recalls, \n",
    "             'f1_score'  : f1_scores\n",
    "        }\n",
    "\n",
    "        return metrics \n",
    "\n",
    "    def setResults(self,\n",
    "                    experimentName,\n",
    "                    accuracies,\n",
    "                    recalls,\n",
    "                    precisions, \n",
    "                    f1_scores\n",
    "                ):\n",
    "        \n",
    "            dict_accuracies  = {data_context : accuracies[idx]  for idx, data_context in enumerate(self.data_order)}\n",
    "            dict_recalls     = {data_context : recalls[idx]     for idx, data_context in enumerate(self.data_order)}\n",
    "            dict_precisions  = {data_context : precisions[idx]  for idx, data_context in enumerate(self.data_order)}  \n",
    "            dict_f1_scores   = {data_context : f1_scores[idx]   for idx, data_context in enumerate(self.data_order)}\n",
    "\n",
    "            self.results[experimentName]['metrics']  = [dict_accuracies, dict_recalls, dict_f1_scores, dict_precisions]\n",
    "\n"
   ]
  },
  {
   "cell_type": "markdown",
   "metadata": {},
   "source": [
    "## 2.1 - KNN"
   ]
  },
  {
   "cell_type": "code",
   "execution_count": null,
   "metadata": {},
   "outputs": [],
   "source": [
    "class experimentKnn(ExperimentClassification):\n",
    "\n",
    "    def __init__(self,\n",
    "                 k_neigbhors : list,\n",
    "                 training_dataset : dict = None,\n",
    "                 test_dataset     : dict = None,\n",
    "                 valid_dataset    : dict = None,\n",
    "                 verbose          : bool = True,\n",
    "                 experimentName   : str = 'Experimento'\n",
    "                 ):\n",
    "        \n",
    "        super().__init__(training_dataset,\n",
    "                 test_dataset,\n",
    "                 valid_dataset)\n",
    "        \n",
    "        self.parameters = k_neigbhors\n",
    "        self.experimentName = experimentName\n",
    "        self.verbose        = verbose \n",
    "\n",
    "\n",
    "    def log(self,\n",
    "            message: str):\n",
    "        \n",
    "        print('='*45)\n",
    "        print(f'{self.experimentName} : {message}')\n",
    "        print('='*45)\n",
    "        \n",
    "\n",
    "    def fine_tuning_knn(self):\n",
    "        ''' \n",
    "        dict_results : \n",
    "            model : model, \n",
    "            metrics : \n",
    "                training : \n",
    "                    accuracy \n",
    "                    precision\n",
    "                    recall\n",
    "                    f1_score\n",
    "                test :  \n",
    "                    ... \n",
    "        \n",
    "        '''\n",
    "        \n",
    "        dict_results = {\n",
    "\n",
    "        }\n",
    "        \n",
    "        \n",
    "        for k in tqdm(self.parameters):\n",
    "            experimentName = f'k_neighbors_{k}'\n",
    "            currentResult = {}\n",
    "            \n",
    "           \n",
    "            knn_classifier = knn(k)\n",
    "            \n",
    "            knn_classifier.fit(self.x_training, \n",
    "                               self.y_training)\n",
    "            \n",
    "            \n",
    "            predictions_training = knn_classifier.predict(self.x_training)\n",
    "            predictions_test     = knn_classifier.predict(self.x_test)\n",
    "            predictions_valid    = knn_classifier.predict(self.x_valid)\n",
    "\n",
    "            # calcula as principais metricas do modelo\n",
    "            metrics = self.computeMetricsSklearnModel(\n",
    "                                                        predictions_training=predictions_training, \n",
    "                                                        predictions_test=predictions_test, \n",
    "                                                        predictions_valid=predictions_valid\n",
    "                                                    )\n",
    "                    \n",
    "            self.general_metrics.append(metrics)\n",
    "\n",
    "            if self.verbose:\n",
    "                #self.log(f\"Acurácia com k = {k}: \\n {metrics['accuracy']} %\" )\n",
    "                \n",
    "                self.log(f\"F1 Scre com k = {k}: \\n {metrics['f1_score']} %\")\n",
    "                \n",
    "\n",
    "        \n",
    "        return self.general_metrics\n",
    "           \n"
   ]
  },
  {
   "cell_type": "code",
   "execution_count": 35,
   "metadata": {},
   "outputs": [
    {
     "name": "stderr",
     "output_type": "stream",
     "text": [
      "  0%|          | 0/10 [00:00<?, ?it/s]/home/p123/.local/lib/python3.10/site-packages/sklearn/neighbors/_classification.py:238: DataConversionWarning: A column-vector y was passed when a 1d array was expected. Please change the shape of y to (n_samples,), for example using ravel().\n",
      "  return self._fit(X, y)\n",
      " 10%|█         | 1/10 [00:14<02:07, 14.12s/it]"
     ]
    },
    {
     "name": "stdout",
     "output_type": "stream",
     "text": [
      "=============================================\n",
      "Experimento : F1 Scre com k = 1: \n",
      " {'training': 1.0, 'test': 0.8975046954655219, 'valid': 0.8971553610503282} %\n",
      "=============================================\n"
     ]
    },
    {
     "name": "stderr",
     "output_type": "stream",
     "text": [
      "/home/p123/.local/lib/python3.10/site-packages/sklearn/neighbors/_classification.py:238: DataConversionWarning: A column-vector y was passed when a 1d array was expected. Please change the shape of y to (n_samples,), for example using ravel().\n",
      "  return self._fit(X, y)\n",
      " 20%|██        | 2/10 [00:30<02:02, 15.31s/it]"
     ]
    },
    {
     "name": "stdout",
     "output_type": "stream",
     "text": [
      "=============================================\n",
      "Experimento : F1 Scre com k = 2: \n",
      " {'training': 0.937345731191885, 'test': 0.8893111638954869, 'valid': 0.8903939406083436} %\n",
      "=============================================\n"
     ]
    },
    {
     "name": "stderr",
     "output_type": "stream",
     "text": [
      "/home/p123/.local/lib/python3.10/site-packages/sklearn/neighbors/_classification.py:238: DataConversionWarning: A column-vector y was passed when a 1d array was expected. Please change the shape of y to (n_samples,), for example using ravel().\n",
      "  return self._fit(X, y)\n",
      " 30%|███       | 3/10 [00:44<01:44, 14.96s/it]"
     ]
    },
    {
     "name": "stdout",
     "output_type": "stream",
     "text": [
      "=============================================\n",
      "Experimento : F1 Scre com k = 3: \n",
      " {'training': 0.9494761881486551, 'test': 0.9118968725886252, 'valid': 0.9076274434649291} %\n",
      "=============================================\n"
     ]
    },
    {
     "name": "stderr",
     "output_type": "stream",
     "text": [
      "/home/p123/.local/lib/python3.10/site-packages/sklearn/neighbors/_classification.py:238: DataConversionWarning: A column-vector y was passed when a 1d array was expected. Please change the shape of y to (n_samples,), for example using ravel().\n",
      "  return self._fit(X, y)\n",
      " 40%|████      | 4/10 [00:58<01:27, 14.65s/it]"
     ]
    },
    {
     "name": "stdout",
     "output_type": "stream",
     "text": [
      "=============================================\n",
      "Experimento : F1 Scre com k = 4: \n",
      " {'training': 0.9305613864212665, 'test': 0.9028271859202397, 'valid': 0.9017423254711391} %\n",
      "=============================================\n"
     ]
    },
    {
     "name": "stderr",
     "output_type": "stream",
     "text": [
      "/home/p123/.local/lib/python3.10/site-packages/sklearn/neighbors/_classification.py:238: DataConversionWarning: A column-vector y was passed when a 1d array was expected. Please change the shape of y to (n_samples,), for example using ravel().\n",
      "  return self._fit(X, y)\n",
      " 50%|█████     | 5/10 [01:13<01:12, 14.56s/it]"
     ]
    },
    {
     "name": "stdout",
     "output_type": "stream",
     "text": [
      "=============================================\n",
      "Experimento : F1 Scre com k = 5: \n",
      " {'training': 0.9381864749051865, 'test': 0.915164514215306, 'valid': 0.9108796296296297} %\n",
      "=============================================\n"
     ]
    },
    {
     "name": "stderr",
     "output_type": "stream",
     "text": [
      "/home/p123/.local/lib/python3.10/site-packages/sklearn/neighbors/_classification.py:238: DataConversionWarning: A column-vector y was passed when a 1d array was expected. Please change the shape of y to (n_samples,), for example using ravel().\n",
      "  return self._fit(X, y)\n",
      " 60%|██████    | 6/10 [01:28<00:58, 14.65s/it]"
     ]
    },
    {
     "name": "stdout",
     "output_type": "stream",
     "text": [
      "=============================================\n",
      "Experimento : F1 Scre com k = 6: \n",
      " {'training': 0.9259339959438848, 'test': 0.9072443512695085, 'valid': 0.9060212514757969} %\n",
      "=============================================\n"
     ]
    },
    {
     "name": "stderr",
     "output_type": "stream",
     "text": [
      "/home/p123/.local/lib/python3.10/site-packages/sklearn/neighbors/_classification.py:238: DataConversionWarning: A column-vector y was passed when a 1d array was expected. Please change the shape of y to (n_samples,), for example using ravel().\n",
      "  return self._fit(X, y)\n",
      " 70%|███████   | 7/10 [01:43<00:44, 14.82s/it]"
     ]
    },
    {
     "name": "stdout",
     "output_type": "stream",
     "text": [
      "=============================================\n",
      "Experimento : F1 Scre com k = 7: \n",
      " {'training': 0.9305780213250586, 'test': 0.9148010804376688, 'valid': 0.9121108874090135} %\n",
      "=============================================\n"
     ]
    },
    {
     "name": "stderr",
     "output_type": "stream",
     "text": [
      "/home/p123/.local/lib/python3.10/site-packages/sklearn/neighbors/_classification.py:238: DataConversionWarning: A column-vector y was passed when a 1d array was expected. Please change the shape of y to (n_samples,), for example using ravel().\n",
      "  return self._fit(X, y)\n",
      " 80%|████████  | 8/10 [02:00<00:31, 15.67s/it]"
     ]
    },
    {
     "name": "stdout",
     "output_type": "stream",
     "text": [
      "=============================================\n",
      "Experimento : F1 Scre com k = 8: \n",
      " {'training': 0.9233423794686233, 'test': 0.908930396803271, 'valid': 0.9080130344313141} %\n",
      "=============================================\n"
     ]
    },
    {
     "name": "stderr",
     "output_type": "stream",
     "text": [
      "/home/p123/.local/lib/python3.10/site-packages/sklearn/neighbors/_classification.py:238: DataConversionWarning: A column-vector y was passed when a 1d array was expected. Please change the shape of y to (n_samples,), for example using ravel().\n",
      "  return self._fit(X, y)\n",
      " 90%|█████████ | 9/10 [02:16<00:15, 15.51s/it]"
     ]
    },
    {
     "name": "stdout",
     "output_type": "stream",
     "text": [
      "=============================================\n",
      "Experimento : F1 Scre com k = 9: \n",
      " {'training': 0.9270181709859994, 'test': 0.913910929688575, 'valid': 0.9127131782945737} %\n",
      "=============================================\n"
     ]
    },
    {
     "name": "stderr",
     "output_type": "stream",
     "text": [
      "/home/p123/.local/lib/python3.10/site-packages/sklearn/neighbors/_classification.py:238: DataConversionWarning: A column-vector y was passed when a 1d array was expected. Please change the shape of y to (n_samples,), for example using ravel().\n",
      "  return self._fit(X, y)\n",
      "100%|██████████| 10/10 [02:31<00:00, 15.11s/it]"
     ]
    },
    {
     "name": "stdout",
     "output_type": "stream",
     "text": [
      "=============================================\n",
      "Experimento : F1 Scre com k = 10: \n",
      " {'training': 0.9217475760671165, 'test': 0.9087196621652976, 'valid': 0.9087488240827846} %\n",
      "=============================================\n"
     ]
    },
    {
     "name": "stderr",
     "output_type": "stream",
     "text": [
      "\n"
     ]
    },
    {
     "data": {
      "text/plain": [
       "{'accuracy': {'training': 1.0,\n",
       "  'test': 0.9114818676862473,\n",
       "  'valid': 0.9122880401557322},\n",
       " 'precision': {'training': 1.0,\n",
       "  'test': 0.912521596799127,\n",
       "  'valid': 0.9120196364194216},\n",
       " 'recall': {'training': 1.0,\n",
       "  'test': 0.8829740431148262,\n",
       "  'valid': 0.882767837255921},\n",
       " 'f1_score': {'training': 1.0,\n",
       "  'test': 0.8975046954655219,\n",
       "  'valid': 0.8971553610503282}}"
      ]
     },
     "execution_count": 35,
     "metadata": {},
     "output_type": "execute_result"
    }
   ],
   "source": [
    "training_dataset = {\n",
    "    'x' : X_training_norm, \n",
    "    'y' : y_training\n",
    "}\n",
    "\n",
    "test_dataset = {\n",
    "    'x' : X_test_normalized, \n",
    "    'y' : y_test\n",
    "}\n",
    "\n",
    "\n",
    "valid_dataset = {\n",
    "    'x' : X_valid_norm, \n",
    "    'y' : y_valid\n",
    "}\n",
    "\n",
    "\n",
    "experimento_knn = experimentKnn(k_neigbhors=[1,2,3,4,5,6,7,8,9,10],\n",
    "                                training_dataset=training_dataset,\n",
    "                                test_dataset=test_dataset, \n",
    "                                valid_dataset=valid_dataset\n",
    "                                )\n",
    "\n",
    "resultados = experimento_knn.fine_tuning_knn()\n",
    "resultados[0]"
   ]
  },
  {
   "cell_type": "markdown",
   "metadata": {},
   "source": [
    "## 2.2 - Arvores de decisão"
   ]
  },
  {
   "cell_type": "code",
   "execution_count": null,
   "metadata": {},
   "outputs": [],
   "source": [
    "randomForestModel = rf(n_estimators=100)\n"
   ]
  },
  {
   "cell_type": "markdown",
   "metadata": {},
   "source": []
  },
  {
   "cell_type": "markdown",
   "metadata": {},
   "source": [
    "# 3.0 Model Evaluations"
   ]
  },
  {
   "cell_type": "markdown",
   "metadata": {},
   "source": []
  }
 ],
 "metadata": {
  "kernelspec": {
   "display_name": "Python 3",
   "language": "python",
   "name": "python3"
  },
  "language_info": {
   "codemirror_mode": {
    "name": "ipython",
    "version": 3
   },
   "file_extension": ".py",
   "mimetype": "text/x-python",
   "name": "python",
   "nbconvert_exporter": "python",
   "pygments_lexer": "ipython3",
   "version": "3.10.12"
  }
 },
 "nbformat": 4,
 "nbformat_minor": 2
}
